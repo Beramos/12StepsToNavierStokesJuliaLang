{
 "cells": [
  {
   "cell_type": "markdown",
   "metadata": {},
   "source": [
    "# Navier-Stokes in Julia"
   ]
  },
  {
   "cell_type": "markdown",
   "metadata": {},
   "source": [
    "## Homebrew matrix operation debugger"
   ]
  },
  {
   "cell_type": "code",
   "execution_count": 55,
   "metadata": {
    "ExecuteTime": {
     "end_time": "2019-03-19T11:11:30.541000+01:00",
     "start_time": "2019-03-19T10:11:30.476Z"
    }
   },
   "outputs": [
    {
     "data": {
      "text/plain": [
       "@dimensionCheck (macro with 1 method)"
      ]
     },
     "execution_count": 55,
     "metadata": {},
     "output_type": "execute_result"
    }
   ],
   "source": [
    "function init_traverse(ex::Expr)\n",
    "    (exp_stack,symbol_size) = traverse(ex);\n",
    "    try \n",
    "        error_loc = pop!(exp_stack);  \n",
    "        return (error_loc,symbol_size)\n",
    "    catch e\n",
    "        println(\"Dimensions are correct, no errors raised 👍\")\n",
    "        return (undef,undef)\n",
    "    end\n",
    "    \n",
    "    \n",
    "end\n",
    "\n",
    "function traverse(ex::Expr)\n",
    "    exp_stack = [];\n",
    "    symbol_size = Dict();\n",
    "    traverse(ex,exp_stack,symbol_size)\n",
    "end\n",
    "\n",
    "function traverse(ex::Symbol,exp_stack,symbol_size)\n",
    "    try symbol_size[string(ex)] = size(eval(ex))\n",
    "        catch e  #not the nicest code  \n",
    "    end\n",
    "end\n",
    "\n",
    "function traverse(ex::Expr,exp_stack,symbol_size) \n",
    "    if ex.head == :call  # function call \n",
    "        arg = ex.args[1];\n",
    "        if (string(arg) != \":\")\n",
    "            test!(arg,exp_stack,symbol_size)\n",
    "        end\n",
    "        # Here all the operators are skipped because they are the first argument\n",
    "        for arg in ex.args[2:end]\n",
    "            if (string(arg) != \":\")\n",
    "                test!(arg,exp_stack,symbol_size)\n",
    "            end\n",
    "            traverse(arg,exp_stack,symbol_size);  # recursive\n",
    "        end\n",
    "    \n",
    "        elseif ex.head == :ref # now where at the indexing level and stop here\n",
    "        symbol_size[string(ex)] = size(eval(ex));\n",
    "        a = size(eval(ex));\n",
    "        \n",
    "    else\n",
    "        for arg in ex.args\n",
    "            test!(arg,exp_stack,symbol_size)\n",
    "            traverse(arg,exp_stack,symbol_size);  # recursive\n",
    "        end\n",
    "    end\n",
    "    \n",
    "    return (exp_stack,symbol_size)\n",
    "end\n",
    "\n",
    "function traverse(ex,exp_stack,symbol_size)\n",
    "end\n",
    "\n",
    "function test!(ex::Expr,exp_stack,symbol_size)\n",
    "    try \n",
    "        eval(ex);\n",
    "    catch e\n",
    "        push!(exp_stack,ex); \n",
    "    end\n",
    "end\n",
    "\n",
    "function test!(ex,exp_stack,symbol_size)\n",
    "    # If not an expression just ignore\n",
    "end\n",
    "\n",
    "function expr_to_size_string(ex::UndefInitializer,symbol_size::UndefInitializer)\n",
    "    #Do nothing\n",
    "end\n",
    "\n",
    "function expr_to_size_string(ex::Expr,symbol_size::Dict)\n",
    "    str = string(ex);\n",
    "    size_str = str\n",
    "    for (key, value) in symbol_size\n",
    "        size_str = replace(size_str, string(key) => string(value))\n",
    "    end\n",
    "    return \"Error in expression '\" * str * \"' with dimensions '\" * size_str *\"'\"\n",
    "end\n",
    "\n",
    "macro dimensionCheck(ex)\n",
    "    (exp_stack,symbol_size) = init_traverse(esc(ex))\n",
    "    return expr_to_size_string(exp_stack,symbol_size)\n",
    "end"
   ]
  },
  {
   "cell_type": "markdown",
   "metadata": {},
   "source": [
    "## Step 12: Channel Flow with Navier–Stokes\n",
    "----\n"
   ]
  },
  {
   "cell_type": "markdown",
   "metadata": {},
   "source": [
    "The only difference between this final step and Step 11 is that we are going to add a source term to the $u$-momentum equation, to mimic the effect of a pressure-driven channel flow. Here are our modified Navier–Stokes equations:"
   ]
  },
  {
   "cell_type": "markdown",
   "metadata": {},
   "source": [
    "$$\\frac{\\partial u}{\\partial t}+u\\frac{\\partial u}{\\partial x}+v\\frac{\\partial u}{\\partial y}=-\\frac{1}{\\rho}\\frac{\\partial p}{\\partial x}+\\nu\\left(\\frac{\\partial^2 u}{\\partial x^2}+\\frac{\\partial^2 u}{\\partial y^2}\\right)+F$$\n",
    "\n",
    "$$\\frac{\\partial v}{\\partial t}+u\\frac{\\partial v}{\\partial x}+v\\frac{\\partial v}{\\partial y}=-\\frac{1}{\\rho}\\frac{\\partial p}{\\partial y}+\\nu\\left(\\frac{\\partial^2 v}{\\partial x^2}+\\frac{\\partial^2 v}{\\partial y^2}\\right)$$\n",
    "\n",
    "$$\\frac{\\partial^2 p}{\\partial x^2}+\\frac{\\partial^2 p}{\\partial y^2}=-\\rho\\left(\\frac{\\partial u}{\\partial x}\\frac{\\partial u}{\\partial x}+2\\frac{\\partial u}{\\partial y}\\frac{\\partial v}{\\partial x}+\\frac{\\partial v}{\\partial y}\\frac{\\partial v}{\\partial y}\\right)\n",
    "$$"
   ]
  },
  {
   "cell_type": "markdown",
   "metadata": {},
   "source": [
    "### Discretized equations (explicit)"
   ]
  },
  {
   "cell_type": "markdown",
   "metadata": {},
   "source": [
    "With patience and care, we write the discretized form of the equations. It is highly recommended that you write these in your own hand, mentally following each term as you write it.\n",
    "\n",
    "The $u$-momentum equation:\n",
    "\n",
    "$$\n",
    "\\begin{split}\n",
    "& \\frac{u_{i,j}^{n+1}-u_{i,j}^{n}}{\\Delta t}+u_{i,j}^{n}\\frac{u_{i,j}^{n}-u_{i-1,j}^{n}}{\\Delta x}+v_{i,j}^{n}\\frac{u_{i,j}^{n}-u_{i,j-1}^{n}}{\\Delta y} = \\\\\n",
    "& \\qquad -\\frac{1}{\\rho}\\frac{p_{i+1,j}^{n}-p_{i-1,j}^{n}}{2\\Delta x} \\\\\n",
    "& \\qquad +\\nu\\left(\\frac{u_{i+1,j}^{n}-2u_{i,j}^{n}+u_{i-1,j}^{n}}{\\Delta x^2}+\\frac{u_{i,j+1}^{n}-2u_{i,j}^{n}+u_{i,j-1}^{n}}{\\Delta y^2}\\right)+F_{i,j}\n",
    "\\end{split}\n",
    "$$\n",
    "\n",
    "The $v$-momentum equation:\n",
    "\n",
    "$$\n",
    "\\begin{split}\n",
    "& \\frac{v_{i,j}^{n+1}-v_{i,j}^{n}}{\\Delta t}+u_{i,j}^{n}\\frac{v_{i,j}^{n}-v_{i-1,j}^{n}}{\\Delta x}+v_{i,j}^{n}\\frac{v_{i,j}^{n}-v_{i,j-1}^{n}}{\\Delta y} = \\\\\n",
    "& \\qquad -\\frac{1}{\\rho}\\frac{p_{i,j+1}^{n}-p_{i,j-1}^{n}}{2\\Delta y} \\\\\n",
    "& \\qquad +\\nu\\left(\\frac{v_{i+1,j}^{n}-2v_{i,j}^{n}+v_{i-1,j}^{n}}{\\Delta x^2}+\\frac{v_{i,j+1}^{n}-2v_{i,j}^{n}+v_{i,j-1}^{n}}{\\Delta y^2}\\right)\n",
    "\\end{split}\n",
    "$$\n",
    "\n",
    "And the pressure equation:\n",
    "\n",
    "$$\n",
    "\\begin{split}\n",
    "& \\frac{p_{i+1,j}^{n}-2p_{i,j}^{n}+p_{i-1,j}^{n}}{\\Delta x^2} + \\frac{p_{i,j+1}^{n}-2p_{i,j}^{n}+p_{i,j-1}^{n}}{\\Delta y^2} = \\\\\n",
    "& \\qquad \\rho\\left[\\frac{1}{\\Delta t}\\left(\\frac{u_{i+1,j}-u_{i-1,j}}{2\\Delta x}+\\frac{v_{i,j+1}-v_{i,j-1}}{2\\Delta y}\\right) - \\frac{u_{i+1,j}-u_{i-1,j}}{2\\Delta x}\\frac{u_{i+1,j}-u_{i-1,j}}{2\\Delta x} - 2\\frac{u_{i,j+1}-u_{i,j-1}}{2\\Delta y}\\frac{v_{i+1,j}-v_{i-1,j}}{2\\Delta x} - \\frac{v_{i,j+1}-v_{i,j-1}}{2\\Delta y}\\frac{v_{i,j+1}-v_{i,j-1}}{2\\Delta y}\\right]\n",
    "\\end{split}\n",
    "$$"
   ]
  },
  {
   "cell_type": "markdown",
   "metadata": {
    "ExecuteTime": {
     "end_time": "2019-03-18T09:24:09.153000+01:00",
     "start_time": "2019-03-18T08:24:07.968Z"
    }
   },
   "source": [
    "The initial condition is $u, v, p=0$ everywhere, and at the boundary conditions are:\n",
    "\n",
    "$u, v, p$ are periodic on $x=0,2$\n",
    "\n",
    "$u, v =0$ at $y =0,2$\n",
    "\n",
    "$\\frac{\\partial p}{\\partial y}=0$ at $y =0,2$\n",
    "\n",
    "$F=1$ everywhere."
   ]
  },
  {
   "cell_type": "markdown",
   "metadata": {},
   "source": [
    "The pressure Poisson equation that's written above can be hard to write out without typos. The function build_up_b below represents the contents of the square brackets, so that the entirety of the PPE is slightly more manageable."
   ]
  },
  {
   "cell_type": "code",
   "execution_count": 141,
   "metadata": {
    "ExecuteTime": {
     "end_time": "2019-03-19T14:38:21.610000+01:00",
     "start_time": "2019-03-19T13:38:21.510Z"
    }
   },
   "outputs": [
    {
     "data": {
      "text/plain": [
       "momentum_periodic! (generic function with 1 method)"
      ]
     },
     "execution_count": 141,
     "metadata": {},
     "output_type": "execute_result"
    }
   ],
   "source": [
    "\"\"\"Constructs the pressure-Poisson equation\"\"\"\n",
    "function build_up_b(ρ,Δt,Δx,Δy,u,v)\n",
    "    b = similar(u)\n",
    "    b[2:end-1, 2:end-1] = @. (ρ * (1 / Δt * ((u[2:end-1, 3:end] - u[2:end-1, 1:end-2]) / (2 * Δx) +\n",
    "            (v[3:end, 2:end-1] - v[1:end-2, 2:end-1]) / (2 * Δy)) -\n",
    "        ((u[2:end-1, 3:end] - u[2:end-1, 1:end-2]) / (2 * Δx))^2 -\n",
    "        2 * ((u[3:end, 2:end-1] - u[1:end-2, 2:end-1]) / (2 * Δy) *\n",
    "            (v[2:end-1, 3:end] - v[2:end-1, 1:end-2]) / (2 * Δx))-\n",
    "        ((v[3:end, 2:end-1] - v[1:end-2, 2:end-1]) / (2 * Δy))^2))\n",
    "end\n",
    "\n",
    "\"\"\"Updates the periodic boundary conditions of the pressure Poisson equation\"\"\"\n",
    "function update_periodic_bc_b!(b,ρ,Δt,Δx,Δy,u,v)\n",
    "    # Periodic BC Pressure @ x = 2\n",
    "    b[2:end-1, end] = @. (ρ * (1 / Δt * ((u[2:end-1, 1] - u[2:end-1,end-1]) / (2 * Δx) +\n",
    "                (v[3:end, end] - v[1:end-2, end]) / (2 * Δy)) -\n",
    "            ((u[2:end-1, 1] - u[2:end-1, end-1]) / (2 * Δx)).^2 -\n",
    "            2 * ((u[3:end, end] - u[1:end-2, end]) / (2 * Δy) .*\n",
    "                (v[2:end-1, 1] - v[2:end-1, end-1]) / (2 * Δx)) -\n",
    "            ((v[3:end, end] - v[1:end-2, end]) / (2 * Δy)).^2))\n",
    "\n",
    "    # Periodic BC Pressure @ x = 0\n",
    "b[2:end-1, 1] = @. (ρ * (1 / Δt * ((u[2:end-1, 1] - u[2:end-1, end]) / (2 * Δx) +\n",
    "                (v[3:end, 1] - v[1:end-2, 1]) / (2 * Δy)) -\n",
    "        ((u[2:end-1, 1] - u[2:end-1, end]) / (2 * Δx)).^2 -\n",
    "        2 * ((u[3:end, 1] - u[1:end-2, 1]) / (2 * Δy) .*\n",
    "                (v[2:end-1, 1] - v[2:end-1, end]) / (2 * Δx))-\n",
    "        ((v[3:end, 1] - v[1:end-2, 1]) / (2 * Δy)).^2))\n",
    "end\n",
    "\n",
    "\"\"\"Solves the pressure Poisson equation with periodic boundary conditions\"\"\"\n",
    "function solve_pressure_poisson_periodic!(p,Δx,Δy,num_it)\n",
    "    for q in 1:num_it\n",
    "        pn = p[:,:]\n",
    "        \n",
    "        @. p[2:end-1, 2:end-1] = (((pn[2:end-1, 3:end] + pn[2:end-1, 1:end-2]) * Δy^2 + (pn[3:end, 2:end-1] +\n",
    "                    pn[1:end-2, 2:end-1]) * Δx^2) / (2 * (Δx^2 + Δy^2)) - Δx^2 * Δy^2 / (2 * (Δx^2 + Δy^2)) * \n",
    "                    b[2:end-1, 2:end-1])\n",
    "\n",
    "        # Periodic BC Pressure @ x = 2\n",
    "        p[2:end-1, end] = @. (((pn[2:end-1, 1] + pn[2:end-1, end-1])* Δy^2 +\n",
    "                        (pn[3:end, end] + pn[1:end-2, end]) * Δx^2) /\n",
    "                               (2 * (Δx^2 + Δy^2)) -\n",
    "                    Δx^2 * Δy^2 / (2 * (Δx^2 + Δy^2)) * b[2:end-1, end])\n",
    "\n",
    "        # Periodic BC Pressure @ x = 0\n",
    "        p[2:end-1, 1] = @. (((pn[2:end-1, 1] + pn[2:end-1, end])* Δy^2 +\n",
    "                (pn[3:end, 1] + pn[1:end-2, 1]) * Δx^2) /\n",
    "                              (2 * (Δx^2 + Δy^2)) -\n",
    "            Δx^2 * Δy^2 / (2 * (Δx^2 + Δy^2)) * b[2:end-1, 1])\n",
    "\n",
    "        # Wall boundary conditions, pressure\n",
    "        p[end, :] =p[end-1, :]  # dp/dy = 0 at y = 2\n",
    "        p[1, :] = p[2, :]  # dp/dy = 0 at y = 0   \n",
    "    end\n",
    "end\n",
    "\n",
    "function momentum_periodic!(u,v,Δx,Δy,ρ,ν,F)\n",
    "    \n",
    "    u[2:end-1, 2:end-1] = @. (un[2:end-1, 2:end-1] -\n",
    "                         un[2:end-1, 2:end-1] * Δt / Δx * \n",
    "                        (un[2:end-1, 2:end-1] - un[2:end-1, 1:end-2]) -\n",
    "                         vn[2:end-1, 2:end-1] * Δt / Δy * \n",
    "                        (un[2:end-1, 2:end-1] - un[1:end-2, 2:end-1]) -\n",
    "                         Δt / (2 * ρ * Δx) * \n",
    "                        (p[2:end-1, 3:end] - p[2:end-1, 1:end-2]) +\n",
    "                         ν * (Δt / Δx^2 * \n",
    "                        (un[2:end-1, 3:end] - 2 * un[2:end-1, 2:end-1] + un[2:end-1, 1:end-2]) +\n",
    "                         Δt / Δy^2 * \n",
    "                        (un[3:end, 2:end-1] - 2 * un[2:end-1, 2:end-1] + un[1:end-2, 2:end-1])) + \n",
    "                         F * Δt)\n",
    "\n",
    "    v[2:end-1, 2:end-1] = @. (vn[2:end-1, 2:end-1] -\n",
    "                         un[2:end-1, 2:end-1] * Δt / Δx * \n",
    "                        (vn[2:end-1, 2:end-1] - vn[2:end-1, 1:end-2]) -\n",
    "                         vn[2:end-1, 2:end-1] * Δt / Δy * \n",
    "                        (vn[2:end-1, 2:end-1] - vn[1:end-2, 2:end-1]) -\n",
    "                         Δt / (2 * ρ * Δy) * \n",
    "                        (p[3:end, 2:end-1] - p[1:end-2, 2:end-1]) +\n",
    "                         ν * (Δt / Δx^2 *\n",
    "                        (vn[2:end-1, 3:end] - 2 * vn[2:end-1, 2:end-1] + vn[2:end-1, 1:end-2]) +\n",
    "                         Δt / Δy^2 * \n",
    "                        (vn[3:end, 2:end-1] - 2 * vn[2:end-1, 2:end-1] + vn[1:end-2, 2:end-1])))\n",
    "\n",
    "\n",
    "    # Periodic BC u @ x = 2     \n",
    "    u[2:end-1, end] = @. (un[2:end-1, end] - un[2:end-1, end] * Δt / Δx * \n",
    "                  (un[2:end-1, end] - un[2:end-1, end-1]) -\n",
    "                   vn[2:end-1, end] * Δt / Δy * \n",
    "                  (un[2:end-1, end] - un[1:end-2, end]) -\n",
    "                   Δt / (2 * ρ * Δx) *\n",
    "                  (p[2:end-1, 1] - p[2:end-1, end-1]) + \n",
    "                   ν * (Δt / Δx^2 * \n",
    "                  (un[2:end-1, 1] - 2 * un[2:end-1, end] + un[2:end-1, end-1]) +\n",
    "                   Δt / Δy^2 * \n",
    "                  (un[3:end, end] - 2 * un[2:end-1, end] + un[1:end-2, end])) + F * Δt)\n",
    "\n",
    "    # Periodic BC u @ x = 0\n",
    "    u[2:end-1, 1] = @. (un[2:end-1, 1] - un[2:end-1, 1] * Δt / Δx *\n",
    "                (un[2:end-1, 1] - un[2:end-1, end]) -\n",
    "                vn[2:end-1, 1] * Δt / Δy * \n",
    "                (un[2:end-1, 1] - un[1:end-2, 1]) - \n",
    "                Δt / (2 * ρ * Δx) * \n",
    "                (p[2:end-1, 1] - p[2:end-1, end]) + \n",
    "                ν * (Δt / Δx^2 * \n",
    "                (un[2:end-1, 1] - 2 * un[2:end-1, 1] + un[2:end-1, end]) +\n",
    "                Δt / Δy^2 *\n",
    "                (un[3:end, 1] - 2 * un[2:end-1, 1] + un[1:end-2, 1])) + F * Δt)\n",
    "\n",
    "    \n",
    "    # Periodic BC v @ x = 2\n",
    "     v[2:end-1, end] = @. (vn[2:end-1, end] - un[2:end-1, end] * Δt / Δx *\n",
    "                (vn[2:end-1, end] - vn[2:end-1, end-1]) - \n",
    "                vn[2:end-1, end] * Δt / Δy *\n",
    "                (vn[2:end-1, end] - vn[1:end-2, end]) -\n",
    "                Δt / (2 * ρ * Δy) * \n",
    "                (p[3:end, end] - p[1:end-2, end]) +\n",
    "                ν * (Δt / Δx^2 *\n",
    "                (vn[2:end-1, 1] - 2 * vn[2:end-1, end] + vn[2:end-1, end-1]) +\n",
    "                Δt / Δy^2 *\n",
    "                (vn[3:end, end] - 2 * vn[2:end-1, end] + vn[1:end-2, end])))\n",
    "\n",
    "# Periodic BC v @ x = 0\n",
    "    v[2:end-1, 1] = @. (vn[2:end-1, 1] - un[2:end-1, 1] * Δt / Δx *\n",
    "                (vn[2:end-1, 1] - vn[2:end-1, end]) -\n",
    "                vn[2:end-1, 1] * Δt / Δy *\n",
    "                (vn[2:end-1, 1] - vn[1:end-2, 1]) -\n",
    "                Δt / (2 * ρ * Δy) * \n",
    "                (p[3:end, 1] - p[1:end-2, 1]) +\n",
    "                ν * (Δt / Δx^2 * \n",
    "                (vn[2:end-1, 1] - 2 * vn[2:end-1, 1] + vn[2:end-1, end]) +\n",
    "                Δt / Δy^2 * \n",
    "                (vn[3:end, 1] - 2 * vn[2:end-1, 1] + vn[1:end-2, 1])))\n",
    "\n",
    "    # Wall BC: u,v = 0 @ y = 0,2\n",
    "    u[1, :]  .= 0\n",
    "    u[end, :]  .= 0\n",
    "    v[1, :]  .= 0\n",
    "    v[end, :] .=0\n",
    "\n",
    "end"
   ]
  },
  {
   "cell_type": "markdown",
   "metadata": {},
   "source": [
    "Now we have our familiar list of variables and initial conditions to declare before we start."
   ]
  },
  {
   "cell_type": "code",
   "execution_count": 142,
   "metadata": {
    "ExecuteTime": {
     "end_time": "2019-03-19T14:38:23.342000+01:00",
     "start_time": "2019-03-19T13:38:23.312Z"
    }
   },
   "outputs": [],
   "source": [
    "const nx = 41;\n",
    "const ny = 41;\n",
    "const nt = 10;\n",
    "const num_it = 50 ;\n",
    "const c = 1;\n",
    "const Δx = 2 / (nx - 1);\n",
    "const Δy = 2 / (ny - 1);\n",
    "\n",
    "x=collect(range(0, stop=2, length = nx));\n",
    "y=collect(range(0, stop=2, length = ny));\n",
    "\n",
    "#physical variables\n",
    "const ρ = 1;\n",
    "const ν = .1;\n",
    "const F = 1;\n",
    "const Δt = 0.01;\n",
    "\n",
    "#initial conditions\n",
    "u = zeros(ny, nx);\n",
    "un = similar(u);\n",
    "\n",
    "v = zeros(ny, nx);\n",
    "vn = similar(v);\n",
    "\n",
    "p = ones(ny, nx);\n",
    "pn = similar(p);\n",
    "\n",
    "b = zeros(ny, nx);"
   ]
  },
  {
   "cell_type": "markdown",
   "metadata": {},
   "source": [
    "For the meat of our computation, we're going to reach back to a trick we used in Step 9 for Laplace's Equation.  We're interested in what our grid will look like once we've reached a near-steady state.  We can either specify a number of timesteps `nt` and increment it until we're satisfied with the results, or we can tell our code to run until the difference between two consecutive iterations is very small.  \n",
    "\n",
    "We also have to manage **8** separate boundary conditions for each iteration.  The code below writes each of them out explicitly.  If you're interested in a challenge, you can try to write a function which can handle some or all of these boundary conditions.  If you're interested in tackling that, you should probably read up on Python [dictionaries](http://docs.python.org/2/tutorial/datastructures.html#dictionaries).  "
   ]
  },
  {
   "cell_type": "code",
   "execution_count": null,
   "metadata": {},
   "outputs": [],
   "source": []
  },
  {
   "cell_type": "code",
   "execution_count": 145,
   "metadata": {
    "ExecuteTime": {
     "end_time": "2019-03-19T14:47:16.901000+01:00",
     "start_time": "2019-03-19T13:47:16.876Z"
    }
   },
   "outputs": [],
   "source": [
    "udiff = 1;\n",
    "stepcount = 0;\n",
    "\n",
    "while udiff > .001\n",
    "    un[:] = u\n",
    "    vn[:] = v\n",
    "    \n",
    "    build_up_b(ρ,Δt,Δx,Δy,u,v);\n",
    "    update_periodic_bc_b!(b,ρ,Δt,Δx,Δy,u,v);\n",
    "    solve_pressure_poisson_periodic!(p,Δx,Δy,num_it);\n",
    "    momentum_periodic!(u,v,Δx,Δy,ρ,ν,F);\n",
    "    \n",
    "    udiff = (sum(u) - sum(un)) / sum(u);\n",
    "    stepcount += 1;\n",
    "end"
   ]
  },
  {
   "cell_type": "code",
   "execution_count": null,
   "metadata": {},
   "outputs": [],
   "source": []
  }
 ],
 "metadata": {
  "hide_input": false,
  "kernelspec": {
   "display_name": "Julia 1.0.3",
   "language": "julia",
   "name": "julia-1.0"
  },
  "language_info": {
   "file_extension": ".jl",
   "mimetype": "application/julia",
   "name": "julia",
   "version": "1.0.3"
  },
  "latex_envs": {
   "LaTeX_envs_menu_present": true,
   "autoclose": false,
   "autocomplete": true,
   "bibliofile": "biblio.bib",
   "cite_by": "apalike",
   "current_citInitial": 1,
   "eqLabelWithNumbers": true,
   "eqNumInitial": 1,
   "hotkeys": {
    "equation": "Ctrl-E",
    "itemize": "Ctrl-I"
   },
   "labels_anchors": false,
   "latex_user_defs": false,
   "report_style_numbering": false,
   "user_envs_cfg": false
  },
  "toc": {
   "nav_menu": {},
   "number_sections": true,
   "sideBar": true,
   "skip_h1_title": false,
   "title_cell": "Table of Contents",
   "title_sidebar": "Contents",
   "toc_cell": false,
   "toc_position": {
    "height": "calc(100% - 180px)",
    "left": "10px",
    "top": "150px",
    "width": "165px"
   },
   "toc_section_display": true,
   "toc_window_display": true
  }
 },
 "nbformat": 4,
 "nbformat_minor": 2
}
